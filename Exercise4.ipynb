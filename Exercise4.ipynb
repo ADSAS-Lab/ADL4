{
 "cells": [
  {
   "cell_type": "markdown",
   "id": "1d11e7bc",
   "metadata": {},
   "source": [
    "# EXERCISE-4  Char-RNN\n",
    "\n",
    "### Task-1"
   ]
  },
  {
   "cell_type": "code",
   "execution_count": 1,
   "id": "0870bea4",
   "metadata": {},
   "outputs": [
    {
     "name": "stderr",
     "output_type": "stream",
     "text": [
      "<ipython-input-1-28ddb18a0b0b>:22: DeprecationWarning: `np.bool` is a deprecated alias for the builtin `bool`. To silence this warning, use `bool` by itself. Doing this will not modify any behavior and is safe. If you specifically wanted the numpy scalar type, use `np.bool_` here.\n",
      "Deprecated in NumPy 1.20; for more details and guidance: https://numpy.org/devdocs/release/1.20.0-notes.html#deprecations\n",
      "  x = np.zeros((len(sentences), seq_length, len(chars)), dtype=np.bool)\n",
      "<ipython-input-1-28ddb18a0b0b>:23: DeprecationWarning: `np.bool` is a deprecated alias for the builtin `bool`. To silence this warning, use `bool` by itself. Doing this will not modify any behavior and is safe. If you specifically wanted the numpy scalar type, use `np.bool_` here.\n",
      "Deprecated in NumPy 1.20; for more details and guidance: https://numpy.org/devdocs/release/1.20.0-notes.html#deprecations\n",
      "  y = np.zeros((len(sentences), len(chars)), dtype=np.bool)\n"
     ]
    },
    {
     "name": "stdout",
     "output_type": "stream",
     "text": [
      "Epoch 1/10\n"
     ]
    },
    {
     "name": "stderr",
     "output_type": "stream",
     "text": [
      "C:\\Users\\SBOW60\\Anaconda3\\lib\\site-packages\\keras\\optimizers\\optimizer_v2\\adam.py:114: UserWarning: The `lr` argument is deprecated, use `learning_rate` instead.\n",
      "  super().__init__(name, **kwargs)\n"
     ]
    },
    {
     "name": "stdout",
     "output_type": "stream",
     "text": [
      "6971/6971 [==============================] - ETA: 0s - loss: 1.6531Epoch 0: perplexity = 5.495800529811973\n",
      "6971/6971 [==============================] - 1490s 214ms/step - loss: 1.6531 - val_loss: 1.7040\n",
      "Epoch 2/10\n",
      "6971/6971 [==============================] - 1459s 209ms/step - loss: 1.4632 - val_loss: 1.6801\n",
      "Epoch 3/10\n",
      "6971/6971 [==============================] - 1536s 220ms/step - loss: 1.4238 - val_loss: 1.6544\n",
      "Epoch 4/10\n",
      "6971/6971 [==============================] - 1650s 237ms/step - loss: 1.4047 - val_loss: 1.6381\n",
      "Epoch 5/10\n",
      "6971/6971 [==============================] - 1726s 248ms/step - loss: 1.3924 - val_loss: 1.6653\n",
      "Epoch 6/10\n",
      "6971/6971 [==============================] - 1803s 259ms/step - loss: 1.3829 - val_loss: 1.6289\n",
      "Epoch 7/10\n",
      "6971/6971 [==============================] - 1868s 268ms/step - loss: 1.3758 - val_loss: 1.6211\n",
      "Epoch 8/10\n",
      "6971/6971 [==============================] - 1899s 272ms/step - loss: 1.3666 - val_loss: 1.6435\n",
      "Epoch 9/10\n",
      "6971/6971 [==============================] - 1947s 279ms/step - loss: 1.3651 - val_loss: 1.6775\n",
      "Epoch 10/10\n",
      "6971/6971 [==============================] - 1902s 273ms/step - loss: 1.3614 - val_loss: 1.6598\n"
     ]
    }
   ],
   "source": [
    "import numpy as np\n",
    "from tensorflow.keras.models import Sequential\n",
    "from tensorflow.keras.layers import Dense, LSTM\n",
    "from tensorflow.keras.callbacks import LambdaCallback\n",
    "from tensorflow.keras.optimizers import Adam\n",
    "\n",
    "# Load the data\n",
    "with open('shakespeare.txt', 'r') as f:\n",
    "    text = f.read().lower()\n",
    "chars = sorted(list(set(text)))\n",
    "char_to_index = dict((c, i) for i, c in enumerate(chars))\n",
    "index_to_char = dict((i, c) for i, c in enumerate(chars))\n",
    "\n",
    "# Create training data and labels\n",
    "seq_length = 100\n",
    "step = 1\n",
    "sentences = []\n",
    "next_chars = []\n",
    "for i in range(0, len(text) - seq_length, step):\n",
    "    sentences.append(text[i:i + seq_length])\n",
    "    next_chars.append(text[i + seq_length])\n",
    "x = np.zeros((len(sentences), seq_length, len(chars)), dtype=np.bool)\n",
    "y = np.zeros((len(sentences), len(chars)), dtype=np.bool)\n",
    "for i, sentence in enumerate(sentences):\n",
    "    for t, char in enumerate(sentence):\n",
    "        x[i, t, char_to_index[char]] = 1\n",
    "    y[i, char_to_index[next_chars[i]]] = 1\n",
    "\n",
    "# Define the model\n",
    "model = Sequential()\n",
    "model.add(LSTM(128, input_shape=(seq_length, len(chars))))\n",
    "model.add(Dense(len(chars), activation='softmax'))\n",
    "optimizer = Adam(lr=0.01)\n",
    "model.compile(loss='categorical_crossentropy', optimizer=optimizer)\n",
    "\n",
    "# Define a callback to compute perplexity\n",
    "def on_epoch_end(epoch, logs):\n",
    "    if epoch % 10 == 0:\n",
    "        perplexity = np.exp(logs['val_loss'])\n",
    "        print(f'Epoch {epoch}: perplexity = {perplexity}')\n",
    "\n",
    "# Train the model\n",
    "epochs = 10\n",
    "\n",
    "batch_size = 128\n",
    "history = model.fit(x, y, batch_size=batch_size, epochs=epochs,validation_split=0.2, callbacks=[LambdaCallback(on_epoch_end=on_epoch_end)])\n",
    "\n",
    "                   \n"
   ]
  },
  {
   "cell_type": "code",
   "execution_count": 2,
   "id": "fb2ff6ea",
   "metadata": {},
   "outputs": [
    {
     "data": {
      "image/png": "[encoded data removed]",
      "text/plain": [
       "<Figure size 432x288 with 1 Axes>"
      ]
     },
     "metadata": {
      "needs_background": "light"
     },
     "output_type": "display_data"
    }
   ],
   "source": [
    "#Plot the change in perplexity during training\n",
    "import matplotlib.pyplot as plt\n",
    "\n",
    "loss = history.history['loss']\n",
    "val_loss = history.history['val_loss']\n",
    "perplexity = np.exp(val_loss)\n",
    "\n",
    "epochs_range = range(epochs)\n",
    "\n",
    "plt.plot(epochs_range, perplexity, label='Validation Perplexity')\n",
    "plt.xlabel('Epochs')\n",
    "plt.ylabel('Perplexity')\n",
    "plt.legend()\n",
    "plt.show()\n",
    "\n"
   ]
  },
  {
   "cell_type": "markdown",
   "id": "29b27512",
   "metadata": {},
   "source": [
    "### Task-2"
   ]
  },
  {
   "cell_type": "code",
   "execution_count": 4,
   "id": "bfd0272b",
   "metadata": {
    "scrolled": false
   },
   "outputs": [
    {
     "name": "stdout",
     "output_type": "stream",
     "text": [
      "Priming sequence: cr!sy\n",
      "Generated sequence: y;i?;\n",
      "\n",
      "Priming sequence:  $yww\n",
      "Generated sequence: .\n",
      "de.\n",
      "\n",
      "Priming sequence: '3tq3\n",
      "Generated sequence: \n",
      "\n",
      ":ue\n",
      "\n"
     ]
    }
   ],
   "source": [
    "# Define a function to generate text given a seed sequence\n",
    "def generate_text(model, seed_sequence, length=100):\n",
    "    generated_text = seed_sequence\n",
    "    for i in range(length):\n",
    "        x_pred = np.zeros((1, seq_length, len(chars)))\n",
    "        for t, char in enumerate(generated_text):\n",
    "            x_pred[0, t, char_to_index[char]] = 1\n",
    "\n",
    "        preds = model.predict(x_pred, verbose=0)[0]\n",
    "        next_index = np.random.choice(len(chars), p=preds)\n",
    "        next_char = index_to_char[next_index]\n",
    "\n",
    "        generated_text += next_char\n",
    "        generated_text = generated_text[1:]\n",
    "\n",
    "    return generated_text\n",
    "\n",
    "# Generate 3 sequences of length 100 by priming with random character sequences of length 5\n",
    "for i in range(3):\n",
    "    seed_sequence = ''.join(np.random.choice(chars, size=5))\n",
    "    generated_sequence = generate_text(model, seed_sequence, length=100)\n",
    "    print(f\"Priming sequence: {seed_sequence}\")\n",
    "    print(f\"Generated sequence: {generated_sequence}\\n\")\n"
   ]
  },
  {
   "cell_type": "markdown",
   "id": "c5bdd1ce",
   "metadata": {},
   "source": [
    "### Task-3"
   ]
  },
  {
   "cell_type": "code",
   "execution_count": 19,
   "id": "36c84692",
   "metadata": {},
   "outputs": [],
   "source": [
    "def generate_text(model, seed_sequence, length):\n",
    "    # Convert the seed sequence to a one-hot encoded input\n",
    "    x_pred = np.zeros((1, seq_length, len(chars)))\n",
    "    for t, char in enumerate(seed_sequence):\n",
    "        x_pred[0, t, char_to_index[char]] = 1\n",
    "\n",
    "    generated_text = seed_sequence\n",
    "    for i in range(length):\n",
    "        preds = model.predict(x_pred, verbose=0)[0]\n",
    "        \n",
    "        # Sample the next character index from the predicted probabilities\n",
    "        def sample(preds, temperature=1.0):\n",
    "            preds = np.asarray(preds).astype('float64')\n",
    "            preds = np.log(preds) / temperature\n",
    "            exp_preds = np.exp(preds)\n",
    "            preds = exp_preds / np.sum(exp_preds)\n",
    "            probas = np.random.multinomial(1, preds, 1)\n",
    "            return np.argmax(probas)\n",
    "        \n",
    "        next_index = sample(preds)\n",
    "        next_char = index_to_char[next_index]\n",
    "\n",
    "        generated_text += next_char\n",
    "        generated_text = generated_text[1:]\n",
    "\n",
    "        # Update the input sequence for the next timestep\n",
    "        x_pred = np.zeros((1, seq_length, len(chars)))\n",
    "        for t, char in enumerate(generated_text):\n",
    "            x_pred[0, t, char_to_index[char]] = 1\n",
    "\n",
    "    return generated_text\n"
   ]
  },
  {
   "cell_type": "code",
   "execution_count": 23,
   "id": "9f76a8f3",
   "metadata": {},
   "outputs": [
    {
     "name": "stdout",
     "output_type": "stream",
     "text": [
      "Priming sequence: the\n",
      "Generated sequence: osl\n",
      "\n",
      "Priming sequence: wat is\n",
      "Generated sequence: \n",
      "rr,,p\n",
      "\n",
      "Priming sequence: shall i give\n",
      "Generated sequence: \n",
      "..ssr,ssear\n",
      "\n"
     ]
    }
   ],
   "source": [
    "# Define the priming sequences\n",
    "priming_sequences = ['the', 'wat is', 'shall i give']\n",
    "\n",
    "# Generate and print the sequences\n",
    "for seq in priming_sequences:\n",
    "    generated_sequence = generate_text(model, seq, length=100)\n",
    "    print(f\"Priming sequence: {seq}\")\n",
    "    print(f\"Generated sequence: {generated_sequence}\\n\")\n"
   ]
  },
  {
   "cell_type": "code",
   "execution_count": null,
   "id": "acd9ebf9",
   "metadata": {},
   "outputs": [],
   "source": []
  }
 ],
 "metadata": {
  "kernelspec": {
   "display_name": "Python 3",
   "language": "python",
   "name": "python3"
  },
  "language_info": {
   "codemirror_mode": {
    "name": "ipython",
    "version": 3
   },
   "file_extension": ".py",
   "mimetype": "text/x-python",
   "name": "python",
   "nbconvert_exporter": "python",
   "pygments_lexer": "ipython3",
   "version": "3.8.8"
  }
 },
 "nbformat": 4,
 "nbformat_minor": 5
}
